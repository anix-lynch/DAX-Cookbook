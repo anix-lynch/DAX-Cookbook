{
  "cells": [
    {
      "cell_type": "markdown",
      "metadata": {
        "id": "view-in-github",
        "colab_type": "text"
      },
      "source": [
        "<a href=\"https://colab.research.google.com/github/bchandayo/DAX-Cookbook/blob/master/how_do_i_test_palm_2_api.ipynb\" target=\"_parent\"><img src=\"https://colab.research.google.com/assets/colab-badge.svg\" alt=\"Open In Colab\"/></a>"
      ]
    },
    {
      "cell_type": "markdown",
      "source": [
        "To test the PaLM 2 API, you will need to:\n",
        "\n",
        "1. Create a Google Cloud Platform project and enable the **Vertex AI** API.\n",
        "2. Create a service account and download the JSON key file.\n",
        "3. Install the **ai-generativelanguage** Python library.\n",
        "4. Create a PaLM client object by passing in your API key and project ID.\n",
        "5. Send a request to the PaLM API by calling the `generate()` method.\n",
        "6. Print the response from the API.\n",
        "\n",
        "Here is an example of how to test the PaLM 2 API:"
      ],
      "metadata": {
        "id": "BJPLjjg_6Ofs"
      }
    },
    {
      "cell_type": "code",
      "source": [
        "import ai_generativelanguage\n",
        "\n",
        "# Create a PaLM client object.\n",
        "client = ai_generativelanguage.Client(\n",
        "    api_key=\"YOUR_API_KEY\",\n",
        "    project_id=\"YOUR_PROJECT_ID\",\n",
        ")\n",
        "\n",
        "# Send a request to the PaLM API.\n",
        "response = client.generate(\n",
        "    text=\"Write a poem about a cat.\"\n",
        ")\n",
        "\n",
        "# Print the response from the API.\n",
        "print(response)"
      ],
      "outputs": [
        {
          "output_type": "error",
          "ename": "ModuleNotFoundError",
          "evalue": "ignored",
          "traceback": [
            "\u001b[0;31m---------------------------------------------------------------------------\u001b[0m",
            "\u001b[0;31mModuleNotFoundError\u001b[0m                       Traceback (most recent call last)",
            "\u001b[0;32m<ipython-input-1-96a0612cd506>\u001b[0m in \u001b[0;36m<cell line: 1>\u001b[0;34m()\u001b[0m\n\u001b[0;32m----> 1\u001b[0;31m \u001b[0;32mimport\u001b[0m \u001b[0mai_generativelanguage\u001b[0m\u001b[0;34m\u001b[0m\u001b[0;34m\u001b[0m\u001b[0m\n\u001b[0m\u001b[1;32m      2\u001b[0m \u001b[0;34m\u001b[0m\u001b[0m\n\u001b[1;32m      3\u001b[0m \u001b[0;31m# Create a PaLM client object.\u001b[0m\u001b[0;34m\u001b[0m\u001b[0;34m\u001b[0m\u001b[0m\n\u001b[1;32m      4\u001b[0m client = ai_generativelanguage.Client(\n\u001b[1;32m      5\u001b[0m     \u001b[0mapi_key\u001b[0m\u001b[0;34m=\u001b[0m\u001b[0;34m\"YOUR_API_KEY\"\u001b[0m\u001b[0;34m,\u001b[0m\u001b[0;34m\u001b[0m\u001b[0;34m\u001b[0m\u001b[0m\n",
            "\u001b[0;31mModuleNotFoundError\u001b[0m: No module named 'ai_generativelanguage'",
            "",
            "\u001b[0;31m---------------------------------------------------------------------------\u001b[0;32m\nNOTE: If your import is failing due to a missing package, you can\nmanually install dependencies using either !pip or !apt.\n\nTo view examples of installing some common dependencies, click the\n\"Open Examples\" button below.\n\u001b[0;31m---------------------------------------------------------------------------\u001b[0m\n"
          ],
          "errorDetails": {
            "actions": [
              {
                "action": "open_url",
                "actionText": "Open Examples",
                "url": "/notebooks/snippets/importing_libraries.ipynb"
              }
            ]
          }
        }
      ],
      "execution_count": 1,
      "metadata": {
        "colab": {
          "base_uri": "https://localhost:8080/",
          "height": 392
        },
        "id": "MMbSIfEX6Oft",
        "outputId": "455feccb-5dd0-4981-e4ed-481afedea817"
      }
    },
    {
      "cell_type": "markdown",
      "source": [
        "The response from the API will be a JSON object with the following fields:\n",
        "\n",
        "* `text`: The generated text.\n",
        "* `score`: The confidence score of the generated text.\n",
        "\n",
        "You can use the PaLM 2 API to generate text, translate languages, write different kinds of creative content, and answer your questions in an informative way."
      ],
      "metadata": {
        "id": "RdfNBTyK6Ofu"
      }
    }
  ],
  "metadata": {
    "colab": {
      "provenance": [],
      "include_colab_link": true
    },
    "kernelspec": {
      "display_name": "Python 3",
      "name": "python3"
    }
  },
  "nbformat": 4,
  "nbformat_minor": 0
}